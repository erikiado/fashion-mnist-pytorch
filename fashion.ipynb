{
 "cells": [
  {
   "cell_type": "code",
   "execution_count": 12,
   "metadata": {},
   "outputs": [],
   "source": [
    "## Imports\n",
    "import torch\n",
    "import torchvision ## Contains some utilities for working with the image data\n",
    "from torchvision.datasets import FashionMNIST\n",
    "import matplotlib.pyplot as plt\n",
    "#%matplotlib inline\n",
    "import torchvision.transforms as transforms\n",
    "from torch.utils.data import random_split\n",
    "from torch.utils.data import DataLoader\n",
    "import torch.nn.functional as F\n",
    "from sklearn.model_selection import train_test_split\n",
    "from torch.utils.data import Subset\n",
    "import torch.optim as optim\n",
    "from torch.optim.lr_scheduler import ReduceLROnPlateau\n",
    "from torch import nn\n",
    "import time\n",
    "from datetime import datetime\n",
    "from IPython.display import clear_output\n",
    "from datetime import timedelta\n",
    "# import tuple\n",
    "from typing import Any, Tuple\n",
    "from PIL import Image\n",
    "import pickle"
   ]
  },
  {
   "cell_type": "code",
   "execution_count": 13,
   "metadata": {},
   "outputs": [],
   "source": [
    "data_dir = '../../../../data/kaggle/'"
   ]
  },
  {
   "cell_type": "code",
   "execution_count": 14,
   "metadata": {},
   "outputs": [
    {
     "name": "stderr",
     "output_type": "stream",
     "text": [
      "<>:7: SyntaxWarning: \"is not\" with a literal. Did you mean \"!=\"?\n",
      "<>:7: SyntaxWarning: \"is not\" with a literal. Did you mean \"!=\"?\n",
      "/var/folders/s8/kl6fzfms2b7gvbxjt5t2wmr80000gn/T/ipykernel_6254/4054308081.py:7: SyntaxWarning: \"is not\" with a literal. Did you mean \"!=\"?\n",
      "  if targets is not '':\n"
     ]
    }
   ],
   "source": [
    "\n",
    "\n",
    "# Define Dataset class\n",
    "class FashionistaDataset(FashionMNIST):\n",
    "    def __init__(self, root='./', labels=None, transform=None, train=True, data=None, download=False, targets=''):\n",
    "        super().__init__(root, transform=transform, download=download, train=train)\n",
    "        if data is not None:\n",
    "            self.data = data\n",
    "        if targets is not '':\n",
    "            self.targets = targets\n",
    "        # self.labels = torch.tensor(labels, dtype=torch.long) if labels is not None else None\n",
    "        # self.transform = transform\n",
    "\n",
    "    def __len__(self):\n",
    "        return len(self.data)\n",
    "\n",
    "    def __getitem__(self, index: int) -> Tuple[Any, Any]:\n",
    "        # print(self.data[index].shape)\n",
    "        # Fetch the image\n",
    "        if type(self.data[index]) == torch.Tensor:\n",
    "            img = self.data[index].reshape(28, 28).numpy().astype('uint8')\n",
    "        else:\n",
    "            img = self.data[index].reshape(28, 28).astype('uint8')\n",
    "        # print(\"type of img: \", type(img))\n",
    "        # print(img.shape)\n",
    "\n",
    "        # Convert to PIL Image for consistency\n",
    "        img = Image.fromarray(img, mode=\"L\")\n",
    "        # img = Image.fromarray(img.numpy(), mode=\"L\")\n",
    "\n",
    "        # Apply transformations to the image\n",
    "        if self.transform is not None:\n",
    "            img = self.transform(img)\n",
    "\n",
    "        # print(self.targets)\n",
    "        # If targets exist, process and return them; otherwise, return only the image\n",
    "        if self.targets is not None:\n",
    "            target = int(self.targets[index])  # Convert target to int\n",
    "            if self.target_transform is not None:\n",
    "                target = self.target_transform(target)\n",
    "            return img, target\n",
    "        else:\n",
    "            return img  # No label for test data"
   ]
  },
  {
   "cell_type": "code",
   "execution_count": 15,
   "metadata": {},
   "outputs": [
    {
     "name": "stdout",
     "output_type": "stream",
     "text": [
      "60000\n"
     ]
    }
   ],
   "source": [
    "dataset = FashionistaDataset(root = data_dir, download = True)\n",
    "print(len(dataset))"
   ]
  },
  {
   "cell_type": "code",
   "execution_count": 16,
   "metadata": {},
   "outputs": [
    {
     "name": "stdout",
     "output_type": "stream",
     "text": [
      "Label: 9\n"
     ]
    },
    {
     "data": {
      "image/png": "[encoded data removed]",
      "text/plain": [
       "<Figure size 640x480 with 1 Axes>"
      ]
     },
     "metadata": {},
     "output_type": "display_data"
    }
   ],
   "source": [
    "image, label = dataset[0]\n",
    "plt.imshow(image, cmap = 'gray')\n",
    "print('Label:', label)"
   ]
  },
  {
   "cell_type": "code",
   "execution_count": 17,
   "metadata": {},
   "outputs": [
    {
     "ename": "RuntimeError",
     "evalue": "Dataset not found. You can use download=True to download it",
     "output_type": "error",
     "traceback": [
      "\u001b[0;31m---------------------------------------------------------------------------\u001b[0m",
      "\u001b[0;31mRuntimeError\u001b[0m                              Traceback (most recent call last)",
      "Cell \u001b[0;32mIn[17], line 2\u001b[0m\n\u001b[1;32m      1\u001b[0m \u001b[38;5;66;03m## MNIST dataset(images and labels)\u001b[39;00m\n\u001b[0;32m----> 2\u001b[0m mnist_dataset \u001b[38;5;241m=\u001b[39m \u001b[43mFashionMNIST\u001b[49m\u001b[43m(\u001b[49m\u001b[43mroot\u001b[49m\u001b[43m \u001b[49m\u001b[38;5;241;43m=\u001b[39;49m\u001b[43m \u001b[49m\u001b[43mdata_dir\u001b[49m\u001b[43m,\u001b[49m\u001b[43m \u001b[49m\u001b[43mtrain\u001b[49m\u001b[43m \u001b[49m\u001b[38;5;241;43m=\u001b[39;49m\u001b[43m \u001b[49m\u001b[38;5;28;43;01mTrue\u001b[39;49;00m\u001b[43m,\u001b[49m\u001b[43m \u001b[49m\u001b[43mtransform\u001b[49m\u001b[43m \u001b[49m\u001b[38;5;241;43m=\u001b[39;49m\u001b[43m \u001b[49m\u001b[43mtransforms\u001b[49m\u001b[38;5;241;43m.\u001b[39;49m\u001b[43mToTensor\u001b[49m\u001b[43m(\u001b[49m\u001b[43m)\u001b[49m\u001b[43m)\u001b[49m\n\u001b[1;32m      3\u001b[0m \u001b[38;5;28mprint\u001b[39m(mnist_dataset)\n",
      "File \u001b[0;32m/opt/homebrew/Caskroom/miniforge/base/envs/data/lib/python3.11/site-packages/torchvision/datasets/mnist.py:103\u001b[0m, in \u001b[0;36mMNIST.__init__\u001b[0;34m(self, root, train, transform, target_transform, download)\u001b[0m\n\u001b[1;32m    100\u001b[0m     \u001b[38;5;28mself\u001b[39m\u001b[38;5;241m.\u001b[39mdownload()\n\u001b[1;32m    102\u001b[0m \u001b[38;5;28;01mif\u001b[39;00m \u001b[38;5;129;01mnot\u001b[39;00m \u001b[38;5;28mself\u001b[39m\u001b[38;5;241m.\u001b[39m_check_exists():\n\u001b[0;32m--> 103\u001b[0m     \u001b[38;5;28;01mraise\u001b[39;00m \u001b[38;5;167;01mRuntimeError\u001b[39;00m(\u001b[38;5;124m\"\u001b[39m\u001b[38;5;124mDataset not found. You can use download=True to download it\u001b[39m\u001b[38;5;124m\"\u001b[39m)\n\u001b[1;32m    105\u001b[0m \u001b[38;5;28mself\u001b[39m\u001b[38;5;241m.\u001b[39mdata, \u001b[38;5;28mself\u001b[39m\u001b[38;5;241m.\u001b[39mtargets \u001b[38;5;241m=\u001b[39m \u001b[38;5;28mself\u001b[39m\u001b[38;5;241m.\u001b[39m_load_data()\n",
      "\u001b[0;31mRuntimeError\u001b[0m: Dataset not found. You can use download=True to download it"
     ]
    }
   ],
   "source": [
    "# ## MNIST dataset(images and labels)\n",
    "# mnist_dataset = FashionMNIST(root = data_dir, train = True, transform = transforms.ToTensor())\n",
    "# print(mnist_dataset)"
   ]
  },
  {
   "cell_type": "code",
   "execution_count": 9,
   "metadata": {},
   "outputs": [
    {
     "name": "stdout",
     "output_type": "stream",
     "text": [
      "torch.Size([1, 28, 28]) 9\n"
     ]
    }
   ],
   "source": [
    "image_tensor, label = mnist_dataset[0]\n",
    "print(image_tensor.shape, label)"
   ]
  },
  {
   "cell_type": "code",
   "execution_count": 10,
   "metadata": {},
   "outputs": [
    {
     "data": {
      "text/plain": [
       "<matplotlib.image.AxesImage at 0x15fd36990>"
      ]
     },
     "execution_count": 10,
     "metadata": {},
     "output_type": "execute_result"
    },
    {
     "data": {
      "image/png": "[encoded data removed]",
      "text/plain": [
       "<Figure size 640x480 with 1 Axes>"
      ]
     },
     "metadata": {},
     "output_type": "display_data"
    }
   ],
   "source": [
    "## Plot the image of the tensor\n",
    "plt.imshow(image_tensor[0,10:15,10:15],cmap = 'gray')"
   ]
  },
  {
   "cell_type": "markdown",
   "metadata": {},
   "source": [
    "## training and validation"
   ]
  },
  {
   "cell_type": "code",
   "execution_count": 11,
   "metadata": {},
   "outputs": [
    {
     "name": "stdout",
     "output_type": "stream",
     "text": [
      "length of Train Datasets:  50000\n",
      "length of Validation Datasets:  10000\n"
     ]
    }
   ],
   "source": [
    "train_data, validation_data = random_split(mnist_dataset, [50000, 10000])\n",
    "## Print the length of train and validation datasets\n",
    "print(\"length of Train Datasets: \", len(train_data))\n",
    "print(\"length of Validation Datasets: \", len(validation_data))"
   ]
  },
  {
   "cell_type": "code",
   "execution_count": 15,
   "metadata": {},
   "outputs": [],
   "source": [
    "# Define data augmentation and transforms\n",
    "train_transform = transforms.Compose([\n",
    "    transforms.RandomRotation(12),\n",
    "    transforms.RandomAffine(0, translate=(0.15, 0.15), shear=15, scale=(0.85, 1.15)),\n",
    "    transforms.ToTensor()\n",
    "])\n",
    "\n",
    "val_transform = transforms.ToTensor()"
   ]
  },
  {
   "cell_type": "code",
   "execution_count": 16,
   "metadata": {},
   "outputs": [
    {
     "name": "stdout",
     "output_type": "stream",
     "text": [
      "Dataset FashionistaDataset\n",
      "    Number of datapoints: 60000\n",
      "    Root location: ../../../../data/kaggle/\n",
      "    Split: Train\n",
      "    StandardTransform\n",
      "Transform: Compose(\n",
      "               RandomRotation(degrees=[-12.0, 12.0], interpolation=nearest, expand=False, fill=0)\n",
      "               RandomAffine(degrees=[0.0, 0.0], translate=(0.15, 0.15), scale=(0.85, 1.15), shear=[-15.0, 15.0])\n",
      "               ToTensor()\n",
      "           )\n",
      "60000\n"
     ]
    },
    {
     "data": {
      "text/plain": [
       "torch.Size([1, 28, 28])"
      ]
     },
     "execution_count": 16,
     "metadata": {},
     "output_type": "execute_result"
    }
   ],
   "source": [
    "fashion_data = FashionistaDataset(root = data_dir, train = True, transform = train_transform)\n",
    "print(fashion_data)\n",
    "print(len(fashion_data))\n",
    "fashion_data[0][0].shape\n"
   ]
  },
  {
   "cell_type": "code",
   "execution_count": 11,
   "metadata": {},
   "outputs": [
    {
     "ename": "NameError",
     "evalue": "name 'fashion_data' is not defined",
     "output_type": "error",
     "traceback": [
      "\u001b[0;31m---------------------------------------------------------------------------\u001b[0m",
      "\u001b[0;31mNameError\u001b[0m                                 Traceback (most recent call last)",
      "Cell \u001b[0;32mIn[11], line 1\u001b[0m\n\u001b[0;32m----> 1\u001b[0m data_indices \u001b[38;5;241m=\u001b[39m \u001b[38;5;28mlist\u001b[39m(\u001b[38;5;28mrange\u001b[39m(\u001b[38;5;28mlen\u001b[39m(\u001b[43mfashion_data\u001b[49m)))\n\u001b[1;32m      2\u001b[0m labels \u001b[38;5;241m=\u001b[39m [fashion_data[i][\u001b[38;5;241m1\u001b[39m] \u001b[38;5;28;01mfor\u001b[39;00m i \u001b[38;5;129;01min\u001b[39;00m data_indices]  \u001b[38;5;66;03m# Assuming fashion_data[i] returns (image, label)\u001b[39;00m\n\u001b[1;32m      4\u001b[0m \u001b[38;5;66;03m# Perform train-test split\u001b[39;00m\n",
      "\u001b[0;31mNameError\u001b[0m: name 'fashion_data' is not defined"
     ]
    }
   ],
   "source": [
    "data_indices = list(range(len(fashion_data)))\n",
    "labels = [fashion_data[i][1] for i in data_indices]  # Assuming fashion_data[i] returns (image, label)\n",
    "\n",
    "# Perform train-test split\n",
    "train_indices, val_indices = train_test_split(\n",
    "    data_indices, \n",
    "    test_size=10000 / len(fashion_data),  # Equivalent to 10k validation samples from 60k\n",
    "    random_state=42,  # For reproducibility\n",
    "    stratify=labels  # Ensures balanced class distribution\n",
    ")\n",
    "\n",
    "# Create Subsets for train and validation datasets\n",
    "train_data = Subset(fashion_data, train_indices)\n",
    "validation_data = Subset(fashion_data, val_indices)\n",
    "len(train_data), len(validation_data)"
   ]
  },
  {
   "cell_type": "code",
   "execution_count": 22,
   "metadata": {},
   "outputs": [],
   "source": [
    "batch_size = 128\n",
    "train_loader = DataLoader(train_data, batch_size, shuffle = True)\n",
    "val_loader = DataLoader(validation_data, batch_size, shuffle = False)"
   ]
  },
  {
   "cell_type": "code",
   "execution_count": 81,
   "metadata": {},
   "outputs": [
    {
     "name": "stdout",
     "output_type": "stream",
     "text": [
      "cnn.0.weight \t torch.Size([64, 1, 5, 5])\n",
      "cnn.0.bias \t torch.Size([64])\n",
      "cnn.1.weight \t torch.Size([64])\n",
      "cnn.1.bias \t torch.Size([64])\n",
      "cnn.1.running_mean \t torch.Size([64])\n",
      "cnn.1.running_var \t torch.Size([64])\n",
      "cnn.1.num_batches_tracked \t torch.Size([])\n",
      "cnn.3.weight \t torch.Size([64, 64, 5, 5])\n",
      "cnn.3.bias \t torch.Size([64])\n",
      "cnn.4.weight \t torch.Size([64])\n",
      "cnn.4.bias \t torch.Size([64])\n",
      "cnn.4.running_mean \t torch.Size([64])\n",
      "cnn.4.running_var \t torch.Size([64])\n",
      "cnn.4.num_batches_tracked \t torch.Size([])\n",
      "cnn.8.weight \t torch.Size([128, 64, 3, 3])\n",
      "cnn.8.bias \t torch.Size([128])\n",
      "cnn.9.weight \t torch.Size([128])\n",
      "cnn.9.bias \t torch.Size([128])\n",
      "cnn.9.running_mean \t torch.Size([128])\n",
      "cnn.9.running_var \t torch.Size([128])\n",
      "cnn.9.num_batches_tracked \t torch.Size([])\n",
      "cnn.11.weight \t torch.Size([128, 128, 3, 3])\n",
      "cnn.11.bias \t torch.Size([128])\n",
      "cnn.12.weight \t torch.Size([128])\n",
      "cnn.12.bias \t torch.Size([128])\n",
      "cnn.12.running_mean \t torch.Size([128])\n",
      "cnn.12.running_var \t torch.Size([128])\n",
      "cnn.12.num_batches_tracked \t torch.Size([])\n",
      "cnn.16.weight \t torch.Size([256, 128, 3, 3])\n",
      "cnn.16.bias \t torch.Size([256])\n",
      "cnn.17.weight \t torch.Size([256])\n",
      "cnn.17.bias \t torch.Size([256])\n",
      "cnn.17.running_mean \t torch.Size([256])\n",
      "cnn.17.running_var \t torch.Size([256])\n",
      "cnn.17.num_batches_tracked \t torch.Size([])\n",
      "fc.1.weight \t torch.Size([512, 2304])\n",
      "fc.1.bias \t torch.Size([512])\n",
      "fc.4.weight \t torch.Size([10, 512])\n",
      "fc.4.bias \t torch.Size([10])\n"
     ]
    }
   ],
   "source": [
    "class FashionistaModel(nn.Module):\n",
    "    def __init__(self):\n",
    "        super().__init__()\n",
    "        # CNN architecture\n",
    "        self.cnn = nn.Sequential(\n",
    "            nn.Conv2d(1, 64, kernel_size=5, padding=2),  # Input: 1x28x28, Output: 64x28x28\n",
    "            nn.BatchNorm2d(64),\n",
    "            nn.LeakyReLU(),\n",
    "            nn.Conv2d(64, 64, kernel_size=5, padding=2),  # Output: 64x28x28\n",
    "            nn.BatchNorm2d(64),\n",
    "            nn.LeakyReLU(),\n",
    "            nn.MaxPool2d(2),  # Output: 64x14x14\n",
    "            nn.Dropout(0.25),\n",
    "\n",
    "            nn.Conv2d(64, 128, kernel_size=3, padding=1),  # Output: 128x14x14\n",
    "            nn.BatchNorm2d(128),\n",
    "            nn.LeakyReLU(),\n",
    "            nn.Conv2d(128, 128, kernel_size=3, padding=1),  # Output: 128x14x14\n",
    "            nn.BatchNorm2d(128),\n",
    "            nn.LeakyReLU(),\n",
    "            nn.MaxPool2d(2),  # Output: 128x7x7\n",
    "            nn.Dropout(0.3),\n",
    "\n",
    "            nn.Conv2d(128, 256, kernel_size=3, padding=1),  # Output: 256x7x7\n",
    "            nn.BatchNorm2d(256),\n",
    "            nn.LeakyReLU(),\n",
    "            nn.MaxPool2d(2),  # Output: 256x3x3\n",
    "            nn.Dropout(0.4),\n",
    "        )\n",
    "\n",
    "        self.fc = nn.Sequential(\n",
    "            nn.Flatten(),  # Flatten the tensor for dense layers\n",
    "            nn.Linear(256 * 3 * 3, 512),  # Fully connected layer\n",
    "            nn.ReLU(),\n",
    "            nn.Dropout(0.3),\n",
    "            nn.Linear(512, 10)  # Output layer for 10 classes\n",
    "        )\n",
    "    \n",
    "    def forward(self, xb):\n",
    "        # Pass through CNN layers\n",
    "        xb = self.cnn(xb)\n",
    "        # Pass through fully connected layers\n",
    "        out = self.fc(xb)\n",
    "        return out\n",
    "\n",
    "    def training_step(self, batch):\n",
    "        images, labels = batch\n",
    "        out = self(images)  # Generate predictions\n",
    "        loss = F.cross_entropy(out, labels)  # Calculate the loss\n",
    "        return loss\n",
    "    \n",
    "    def validation_step(self, batch):\n",
    "        images, labels = batch\n",
    "        out = self(images)\n",
    "        loss = F.cross_entropy(out, labels)\n",
    "        acc = accuracy(out, labels)\n",
    "        return {'val_loss': loss, 'val_acc': acc}\n",
    "    \n",
    "    def validation_epoch_end(self, outputs):\n",
    "        batch_losses = [x['val_loss'] for x in outputs]\n",
    "        epoch_loss = torch.stack(batch_losses).mean()\n",
    "        batch_accs = [x['val_acc'] for x in outputs]\n",
    "        epoch_acc = torch.stack(batch_accs).mean()\n",
    "        return {'val_loss': epoch_loss.item(), 'val_acc': epoch_acc.item()}\n",
    "    \n",
    "    def epoch_end(self, epoch, result):\n",
    "        print(\"Epoch [{}], val_loss: {:.4f}, val_acc: {:.4f}\".format(epoch, result['val_loss'], result['val_acc']))\n",
    "\n",
    "model = FashionistaModel()\n",
    "for k in model.state_dict().keys():\n",
    "    print(k, \"\\t\", model.state_dict()[k].shape)"
   ]
  },
  {
   "cell_type": "code",
   "execution_count": 24,
   "metadata": {},
   "outputs": [
    {
     "name": "stdout",
     "output_type": "stream",
     "text": [
      "outputs shape:  torch.Size([128, 10])\n",
      "Sample outputs: \n",
      " tensor([[ 0.0730, -0.1182, -0.2732, -0.3171,  0.0085,  0.2078, -0.3174, -0.4448,\n",
      "         -0.0835,  0.1948],\n",
      "        [ 0.4744, -0.2640, -0.3180,  0.3144, -0.9573, -0.2797,  0.5095, -0.0596,\n",
      "          0.4760, -0.1029]])\n"
     ]
    }
   ],
   "source": [
    "for images, labels in train_loader:\n",
    "    outputs = model(images)\n",
    "    break\n",
    "    \n",
    "print('outputs shape: ', outputs.shape)\n",
    "print('Sample outputs: \\n', outputs[:2].data)"
   ]
  },
  {
   "cell_type": "code",
   "execution_count": 26,
   "metadata": {},
   "outputs": [
    {
     "name": "stdout",
     "output_type": "stream",
     "text": [
      "Accuracy:  tensor(0.0625)\n",
      "\n",
      "\n",
      "Loss Function:  <function cross_entropy at 0x12c59b560>\n",
      "\n",
      "\n",
      "tensor(2.4832, grad_fn=<NllLossBackward0>)\n"
     ]
    }
   ],
   "source": [
    "def accuracy(outputs, labels):\n",
    "    _, preds = torch.max(outputs, dim = 1)\n",
    "    return(torch.tensor(torch.sum(preds == labels).item()/ len(preds)))\n",
    "\n",
    "print(\"Accuracy: \",accuracy(outputs, labels))\n",
    "print(\"\\n\")\n",
    "loss_fn = F.cross_entropy\n",
    "print(\"Loss Function: \",loss_fn)\n",
    "print(\"\\n\")\n",
    "## Loss for the current batch\n",
    "loss = loss_fn(outputs, labels)\n",
    "print(loss)"
   ]
  },
  {
   "cell_type": "code",
   "execution_count": 28,
   "metadata": {},
   "outputs": [],
   "source": [
    "def evaluate(model, val_loader):\n",
    "  outputs = [model.validation_step(batch) for batch in val_loader]\n",
    "  return(model.validation_epoch_end(outputs))\n",
    "\n",
    "def fit(epochs, lr, model, train_loader, val_loader, opt_func = torch.optim.SGD):\n",
    "  history = []\n",
    "  optimizer = opt_func(model.parameters(), lr)\n",
    "  for epoch in range(epochs):\n",
    "      \n",
    "    ## Training Phas\n",
    "    for batch in train_loader:\n",
    "      loss = model.training_step(batch)\n",
    "      loss.backward()\n",
    "      optimizer.step()\n",
    "      optimizer.zero_grad()\n",
    "    \n",
    "    ## Validation phase\n",
    "    result = evaluate(model, val_loader)\n",
    "    model.epoch_end(epoch, result)\n",
    "    history.append(result)\n",
    "  return(history)"
   ]
  },
  {
   "cell_type": "code",
   "execution_count": 29,
   "metadata": {},
   "outputs": [
    {
     "data": {
      "text/plain": [
       "{'val_loss': 2.403740882873535, 'val_acc': 0.10215585678815842}"
      ]
     },
     "execution_count": 29,
     "metadata": {},
     "output_type": "execute_result"
    }
   ],
   "source": [
    "result0 = evaluate(model, val_loader)\n",
    "result0"
   ]
  },
  {
   "cell_type": "code",
   "execution_count": 82,
   "metadata": {},
   "outputs": [],
   "source": [
    "# training setup\n",
    "device = torch.device('cuda' if torch.cuda.is_available() else 'cpu')\n",
    "model = FashionistaModel().to(device)\n",
    "criterion = nn.CrossEntropyLoss()\n",
    "optimizer = optim.Adam(model.parameters(), lr=0.001)\n",
    "scheduler = ReduceLROnPlateau(optimizer, 'min', factor=0.5, patience=3)"
   ]
  },
  {
   "cell_type": "code",
   "execution_count": 83,
   "metadata": {},
   "outputs": [
    {
     "name": "stdout",
     "output_type": "stream",
     "text": [
      "Training on cpu\n",
      "Epoch 1/50\n"
     ]
    },
    {
     "ename": "KeyboardInterrupt",
     "evalue": "",
     "output_type": "error",
     "traceback": [
      "\u001b[0;31m---------------------------------------------------------------------------\u001b[0m",
      "\u001b[0;31mKeyboardInterrupt\u001b[0m                         Traceback (most recent call last)",
      "Cell \u001b[0;32mIn[83], line 19\u001b[0m\n\u001b[1;32m     17\u001b[0m outputs \u001b[38;5;241m=\u001b[39m model(X_batch)\n\u001b[1;32m     18\u001b[0m loss \u001b[38;5;241m=\u001b[39m criterion(outputs, y_batch)\n\u001b[0;32m---> 19\u001b[0m \u001b[43mloss\u001b[49m\u001b[38;5;241;43m.\u001b[39;49m\u001b[43mbackward\u001b[49m\u001b[43m(\u001b[49m\u001b[43m)\u001b[49m\n\u001b[1;32m     20\u001b[0m optimizer\u001b[38;5;241m.\u001b[39mstep()\n\u001b[1;32m     21\u001b[0m train_loss \u001b[38;5;241m+\u001b[39m\u001b[38;5;241m=\u001b[39m loss\u001b[38;5;241m.\u001b[39mitem()\n",
      "File \u001b[0;32m/opt/homebrew/Caskroom/miniforge/base/envs/data/lib/python3.11/site-packages/torch/_tensor.py:581\u001b[0m, in \u001b[0;36mTensor.backward\u001b[0;34m(self, gradient, retain_graph, create_graph, inputs)\u001b[0m\n\u001b[1;32m    571\u001b[0m \u001b[38;5;28;01mif\u001b[39;00m has_torch_function_unary(\u001b[38;5;28mself\u001b[39m):\n\u001b[1;32m    572\u001b[0m     \u001b[38;5;28;01mreturn\u001b[39;00m handle_torch_function(\n\u001b[1;32m    573\u001b[0m         Tensor\u001b[38;5;241m.\u001b[39mbackward,\n\u001b[1;32m    574\u001b[0m         (\u001b[38;5;28mself\u001b[39m,),\n\u001b[0;32m   (...)\u001b[0m\n\u001b[1;32m    579\u001b[0m         inputs\u001b[38;5;241m=\u001b[39minputs,\n\u001b[1;32m    580\u001b[0m     )\n\u001b[0;32m--> 581\u001b[0m \u001b[43mtorch\u001b[49m\u001b[38;5;241;43m.\u001b[39;49m\u001b[43mautograd\u001b[49m\u001b[38;5;241;43m.\u001b[39;49m\u001b[43mbackward\u001b[49m\u001b[43m(\u001b[49m\n\u001b[1;32m    582\u001b[0m \u001b[43m    \u001b[49m\u001b[38;5;28;43mself\u001b[39;49m\u001b[43m,\u001b[49m\u001b[43m \u001b[49m\u001b[43mgradient\u001b[49m\u001b[43m,\u001b[49m\u001b[43m \u001b[49m\u001b[43mretain_graph\u001b[49m\u001b[43m,\u001b[49m\u001b[43m \u001b[49m\u001b[43mcreate_graph\u001b[49m\u001b[43m,\u001b[49m\u001b[43m \u001b[49m\u001b[43minputs\u001b[49m\u001b[38;5;241;43m=\u001b[39;49m\u001b[43minputs\u001b[49m\n\u001b[1;32m    583\u001b[0m \u001b[43m\u001b[49m\u001b[43m)\u001b[49m\n",
      "File \u001b[0;32m/opt/homebrew/Caskroom/miniforge/base/envs/data/lib/python3.11/site-packages/torch/autograd/__init__.py:347\u001b[0m, in \u001b[0;36mbackward\u001b[0;34m(tensors, grad_tensors, retain_graph, create_graph, grad_variables, inputs)\u001b[0m\n\u001b[1;32m    342\u001b[0m     retain_graph \u001b[38;5;241m=\u001b[39m create_graph\n\u001b[1;32m    344\u001b[0m \u001b[38;5;66;03m# The reason we repeat the same comment below is that\u001b[39;00m\n\u001b[1;32m    345\u001b[0m \u001b[38;5;66;03m# some Python versions print out the first line of a multi-line function\u001b[39;00m\n\u001b[1;32m    346\u001b[0m \u001b[38;5;66;03m# calls in the traceback and some print out the last line\u001b[39;00m\n\u001b[0;32m--> 347\u001b[0m \u001b[43m_engine_run_backward\u001b[49m\u001b[43m(\u001b[49m\n\u001b[1;32m    348\u001b[0m \u001b[43m    \u001b[49m\u001b[43mtensors\u001b[49m\u001b[43m,\u001b[49m\n\u001b[1;32m    349\u001b[0m \u001b[43m    \u001b[49m\u001b[43mgrad_tensors_\u001b[49m\u001b[43m,\u001b[49m\n\u001b[1;32m    350\u001b[0m \u001b[43m    \u001b[49m\u001b[43mretain_graph\u001b[49m\u001b[43m,\u001b[49m\n\u001b[1;32m    351\u001b[0m \u001b[43m    \u001b[49m\u001b[43mcreate_graph\u001b[49m\u001b[43m,\u001b[49m\n\u001b[1;32m    352\u001b[0m \u001b[43m    \u001b[49m\u001b[43minputs\u001b[49m\u001b[43m,\u001b[49m\n\u001b[1;32m    353\u001b[0m \u001b[43m    \u001b[49m\u001b[43mallow_unreachable\u001b[49m\u001b[38;5;241;43m=\u001b[39;49m\u001b[38;5;28;43;01mTrue\u001b[39;49;00m\u001b[43m,\u001b[49m\n\u001b[1;32m    354\u001b[0m \u001b[43m    \u001b[49m\u001b[43maccumulate_grad\u001b[49m\u001b[38;5;241;43m=\u001b[39;49m\u001b[38;5;28;43;01mTrue\u001b[39;49;00m\u001b[43m,\u001b[49m\n\u001b[1;32m    355\u001b[0m \u001b[43m\u001b[49m\u001b[43m)\u001b[49m\n",
      "File \u001b[0;32m/opt/homebrew/Caskroom/miniforge/base/envs/data/lib/python3.11/site-packages/torch/autograd/graph.py:825\u001b[0m, in \u001b[0;36m_engine_run_backward\u001b[0;34m(t_outputs, *args, **kwargs)\u001b[0m\n\u001b[1;32m    823\u001b[0m     unregister_hooks \u001b[38;5;241m=\u001b[39m _register_logging_hooks_on_whole_graph(t_outputs)\n\u001b[1;32m    824\u001b[0m \u001b[38;5;28;01mtry\u001b[39;00m:\n\u001b[0;32m--> 825\u001b[0m     \u001b[38;5;28;01mreturn\u001b[39;00m \u001b[43mVariable\u001b[49m\u001b[38;5;241;43m.\u001b[39;49m\u001b[43m_execution_engine\u001b[49m\u001b[38;5;241;43m.\u001b[39;49m\u001b[43mrun_backward\u001b[49m\u001b[43m(\u001b[49m\u001b[43m  \u001b[49m\u001b[38;5;66;43;03m# Calls into the C++ engine to run the backward pass\u001b[39;49;00m\n\u001b[1;32m    826\u001b[0m \u001b[43m        \u001b[49m\u001b[43mt_outputs\u001b[49m\u001b[43m,\u001b[49m\u001b[43m \u001b[49m\u001b[38;5;241;43m*\u001b[39;49m\u001b[43margs\u001b[49m\u001b[43m,\u001b[49m\u001b[43m \u001b[49m\u001b[38;5;241;43m*\u001b[39;49m\u001b[38;5;241;43m*\u001b[39;49m\u001b[43mkwargs\u001b[49m\n\u001b[1;32m    827\u001b[0m \u001b[43m    \u001b[49m\u001b[43m)\u001b[49m  \u001b[38;5;66;03m# Calls into the C++ engine to run the backward pass\u001b[39;00m\n\u001b[1;32m    828\u001b[0m \u001b[38;5;28;01mfinally\u001b[39;00m:\n\u001b[1;32m    829\u001b[0m     \u001b[38;5;28;01mif\u001b[39;00m attach_logging_hooks:\n",
      "\u001b[0;31mKeyboardInterrupt\u001b[0m: "
     ]
    }
   ],
   "source": [
    "# Training loop\n",
    "epochs = 50\n",
    "best_val_loss = float('inf')\n",
    "early_stop_counter = 0\n",
    "patience = 5\n",
    "losses = []\n",
    "val_losses = []\n",
    "val_accuracies = []\n",
    "print(\"Training on\", device)\n",
    "for epoch in range(epochs):\n",
    "    print(f\"Epoch {epoch+1}/{epochs}\")\n",
    "    model.train()\n",
    "    train_loss = 0\n",
    "    for X_batch, y_batch in train_loader:\n",
    "        X_batch, y_batch = X_batch.to(device), y_batch.to(device)\n",
    "        optimizer.zero_grad()\n",
    "        outputs = model(X_batch)\n",
    "        loss = criterion(outputs, y_batch)\n",
    "        loss.backward()\n",
    "        optimizer.step()\n",
    "        train_loss += loss.item()\n",
    "        \n",
    "    model.eval()\n",
    "    val_loss = 0\n",
    "    correct = 0\n",
    "    total = 0\n",
    "    with torch.no_grad():\n",
    "        for X_batch, y_batch in val_loader:\n",
    "            X_batch, y_batch = X_batch.to(device), y_batch.to(device)\n",
    "            outputs = model(X_batch)\n",
    "            loss = criterion(outputs, y_batch)\n",
    "            val_loss += loss.item()\n",
    "            _, predicted = torch.max(outputs, 1)\n",
    "            correct += (predicted == y_batch).sum().item()\n",
    "            total += y_batch.size(0)\n",
    "\n",
    "    val_loss /= len(val_loader)\n",
    "    train_loss /= len(train_loader)\n",
    "    val_accuracy = correct / total\n",
    "\n",
    "    losses.append(train_loss)\n",
    "    val_losses.append(val_loss)\n",
    "    val_accuracies.append(val_accuracy)\n",
    "\n",
    "    print(f\"Epoch {epoch+1}/{epochs}, Train Loss: {train_loss:.4f}, Val Loss: {val_loss:.4f}, Val Accuracy: {val_accuracy:.4f}\")\n",
    "\n",
    "    scheduler.step(val_loss)\n",
    "\n",
    "    if val_loss < best_val_loss:\n",
    "        best_val_loss = val_loss\n",
    "        torch.save(model.state_dict(), \"fashion-mnist-cnn.pth\")\n",
    "        early_stop_counter = 0\n",
    "    else:\n",
    "        early_stop_counter += 1\n",
    "        if early_stop_counter >= patience:\n",
    "            print(\"Early stopping triggered.\")\n",
    "            break\n",
    "\n",
    "# Load the best model for inference\n",
    "model.load_state_dict(torch.load(\"fashion-mnist-cnn.pth\"))\n",
    "model.eval()"
   ]
  },
  {
   "cell_type": "code",
   "execution_count": 36,
   "metadata": {},
   "outputs": [
    {
     "data": {
      "image/png": "[encoded data removed]",
      "text/plain": [
       "<Figure size 640x480 with 1 Axes>"
      ]
     },
     "metadata": {},
     "output_type": "display_data"
    }
   ],
   "source": [
    "# plot the training and validation losses\n",
    "plt.plot(losses, label='train loss')\n",
    "plt.plot(val_losses, label='validation loss')\n",
    "plt.legend(\"Loss\")\n",
    "plt.xlabel('epoch')\n",
    "plt.ylabel('accuracy')\n",
    "plt.title('Accuracy Vs. No. of epochs')\n",
    "plt.show()"
   ]
  },
  {
   "cell_type": "code",
   "execution_count": 27,
   "metadata": {},
   "outputs": [
    {
     "data": {
      "text/plain": [
       "(0.9033, 0.7152208015322685)"
      ]
     },
     "execution_count": 27,
     "metadata": {},
     "output_type": "execute_result"
    }
   ],
   "source": [
    "def get_model_accuracy(model, data_loader):\n",
    "    correct = 0\n",
    "    total = 0\n",
    "    with torch.no_grad():\n",
    "        for X_batch, y_batch in data_loader:\n",
    "            X_batch, y_batch = X_batch.to(device), y_batch.to(device)\n",
    "            outputs = model(X_batch)\n",
    "            _, predicted = torch.max(outputs, 1)\n",
    "            correct += (predicted == y_batch).sum().item()\n",
    "            total += y_batch.size(0)\n",
    "    return correct / total\n",
    "\n",
    "# current model validation accuracy\n",
    "model.eval()\n",
    "val_loss = 0\n",
    "correct = 0\n",
    "total = 0\n",
    "with torch.no_grad():\n",
    "    for X_batch, y_batch in val_loader:\n",
    "        X_batch, y_batch = X_batch.to(device), y_batch.to(device)\n",
    "        outputs = model(X_batch)\n",
    "        loss = criterion(outputs, y_batch)\n",
    "        val_loss += loss.item()\n",
    "        _, predicted = torch.max(outputs, 1)\n",
    "        correct += (predicted == y_batch).sum().item()\n",
    "        total += y_batch.size(0)\n",
    "\n",
    "val_loss /= len(val_loader)\n",
    "train_loss /= len(train_loader)\n",
    "val_accuracy = correct / total\n",
    "val_accuracy, val_loss"
   ]
  },
  {
   "cell_type": "code",
   "execution_count": 42,
   "metadata": {},
   "outputs": [],
   "source": [
    "bestest_val_loss = val_loss"
   ]
  },
  {
   "cell_type": "code",
   "execution_count": 43,
   "metadata": {},
   "outputs": [
    {
     "name": "stdout",
     "output_type": "stream",
     "text": [
      "Training on cpu\n",
      "Epoch 1/50\n",
      "Epoch 1/50, Train Loss: 0.2284, Val Loss: 0.2048, Val Accuracy: 0.9275\n",
      "Epoch 2/50\n",
      "Epoch 2/50, Train Loss: 0.2246, Val Loss: 0.2055, Val Accuracy: 0.9275\n",
      "Epoch 3/50\n",
      "Epoch 3/50, Train Loss: 0.2245, Val Loss: 0.2016, Val Accuracy: 0.9283\n",
      "Epoch 4/50\n",
      "Epoch 4/50, Train Loss: 0.2217, Val Loss: 0.2018, Val Accuracy: 0.9273\n",
      "Epoch 5/50\n",
      "Epoch 5/50, Train Loss: 0.2223, Val Loss: 0.2013, Val Accuracy: 0.9287\n",
      "Epoch 6/50\n",
      "Epoch 6/50, Train Loss: 0.2211, Val Loss: 0.2034, Val Accuracy: 0.9253\n",
      "Epoch 7/50\n",
      "Epoch 7/50, Train Loss: 0.2223, Val Loss: 0.2002, Val Accuracy: 0.9285\n",
      "Epoch 8/50\n",
      "Epoch 8/50, Train Loss: 0.2220, Val Loss: 0.2039, Val Accuracy: 0.9283\n",
      "Epoch 9/50\n",
      "Epoch 9/50, Train Loss: 0.2232, Val Loss: 0.2013, Val Accuracy: 0.9300\n",
      "Epoch 10/50\n",
      "Epoch 10/50, Train Loss: 0.2214, Val Loss: 0.2006, Val Accuracy: 0.9277\n",
      "Epoch 11/50\n",
      "Epoch 11/50, Train Loss: 0.2199, Val Loss: 0.2019, Val Accuracy: 0.9268\n",
      "Epoch 12/50\n",
      "Epoch 12/50, Train Loss: 0.2227, Val Loss: 0.2002, Val Accuracy: 0.9295\n",
      "Early stopping triggered.\n"
     ]
    },
    {
     "name": "stderr",
     "output_type": "stream",
     "text": [
      "/var/folders/s8/kl6fzfms2b7gvbxjt5t2wmr80000gn/T/ipykernel_21157/2909279292.py:60: FutureWarning: You are using `torch.load` with `weights_only=False` (the current default value), which uses the default pickle module implicitly. It is possible to construct malicious pickle data which will execute arbitrary code during unpickling (See https://github.com/pytorch/pytorch/blob/main/SECURITY.md#untrusted-models for more details). In a future release, the default value for `weights_only` will be flipped to `True`. This limits the functions that could be executed during unpickling. Arbitrary objects will no longer be allowed to be loaded via this mode unless they are explicitly allowlisted by the user via `torch.serialization.add_safe_globals`. We recommend you start setting `weights_only=True` for any use case where you don't have full control of the loaded file. Please open an issue on GitHub for any issues related to this experimental feature.\n",
      "  model.load_state_dict(torch.load(\"fashion-mnist-cnn.pth\"))\n"
     ]
    },
    {
     "data": {
      "text/plain": [
       "FashionistaModel(\n",
       "  (cnn): Sequential(\n",
       "    (0): Conv2d(1, 64, kernel_size=(3, 3), stride=(1, 1), padding=(1, 1))\n",
       "    (1): BatchNorm2d(64, eps=1e-05, momentum=0.1, affine=True, track_running_stats=True)\n",
       "    (2): LeakyReLU(negative_slope=0.01)\n",
       "    (3): Conv2d(64, 64, kernel_size=(3, 3), stride=(1, 1), padding=(1, 1))\n",
       "    (4): BatchNorm2d(64, eps=1e-05, momentum=0.1, affine=True, track_running_stats=True)\n",
       "    (5): LeakyReLU(negative_slope=0.01)\n",
       "    (6): MaxPool2d(kernel_size=2, stride=2, padding=0, dilation=1, ceil_mode=False)\n",
       "    (7): Dropout(p=0.3, inplace=False)\n",
       "    (8): Conv2d(64, 128, kernel_size=(3, 3), stride=(1, 1), padding=(1, 1))\n",
       "    (9): BatchNorm2d(128, eps=1e-05, momentum=0.1, affine=True, track_running_stats=True)\n",
       "    (10): LeakyReLU(negative_slope=0.01)\n",
       "    (11): Conv2d(128, 128, kernel_size=(3, 3), stride=(1, 1), padding=(1, 1))\n",
       "    (12): BatchNorm2d(128, eps=1e-05, momentum=0.1, affine=True, track_running_stats=True)\n",
       "    (13): LeakyReLU(negative_slope=0.01)\n",
       "    (14): MaxPool2d(kernel_size=2, stride=2, padding=0, dilation=1, ceil_mode=False)\n",
       "    (15): Dropout(p=0.4, inplace=False)\n",
       "    (16): Conv2d(128, 256, kernel_size=(3, 3), stride=(1, 1), padding=(1, 1))\n",
       "    (17): BatchNorm2d(256, eps=1e-05, momentum=0.1, affine=True, track_running_stats=True)\n",
       "    (18): LeakyReLU(negative_slope=0.01)\n",
       "    (19): MaxPool2d(kernel_size=2, stride=2, padding=0, dilation=1, ceil_mode=False)\n",
       "    (20): Dropout(p=0.4, inplace=False)\n",
       "  )\n",
       "  (fc): Sequential(\n",
       "    (0): Flatten(start_dim=1, end_dim=-1)\n",
       "    (1): Linear(in_features=2304, out_features=512, bias=True)\n",
       "    (2): ReLU()\n",
       "    (3): Dropout(p=0.4, inplace=False)\n",
       "    (4): Linear(in_features=512, out_features=10, bias=True)\n",
       "  )\n",
       ")"
      ]
     },
     "execution_count": 43,
     "metadata": {},
     "output_type": "execute_result"
    }
   ],
   "source": [
    "# Training loop\n",
    "epochs = 50\n",
    "best_val_loss = bestest_val_loss\n",
    "early_stop_counter = 0\n",
    "patience = 5\n",
    "losses = []\n",
    "val_losses = []\n",
    "val_accuracies = []\n",
    "print(\"Training on\", device)\n",
    "for epoch in range(epochs):\n",
    "    print(f\"Epoch {epoch+1}/{epochs}\")\n",
    "    model.train()\n",
    "    train_loss = 0\n",
    "    for X_batch, y_batch in train_loader:\n",
    "        X_batch, y_batch = X_batch.to(device), y_batch.to(device)\n",
    "        optimizer.zero_grad()\n",
    "        outputs = model(X_batch)\n",
    "        loss = criterion(outputs, y_batch)\n",
    "        loss.backward()\n",
    "        optimizer.step()\n",
    "        train_loss += loss.item()\n",
    "        \n",
    "    model.eval()\n",
    "    val_loss = 0\n",
    "    correct = 0\n",
    "    total = 0\n",
    "    with torch.no_grad():\n",
    "        for X_batch, y_batch in val_loader:\n",
    "            X_batch, y_batch = X_batch.to(device), y_batch.to(device)\n",
    "            outputs = model(X_batch)\n",
    "            loss = criterion(outputs, y_batch)\n",
    "            val_loss += loss.item()\n",
    "            _, predicted = torch.max(outputs, 1)\n",
    "            correct += (predicted == y_batch).sum().item()\n",
    "            total += y_batch.size(0)\n",
    "\n",
    "    val_loss /= len(val_loader)\n",
    "    train_loss /= len(train_loader)\n",
    "    val_accuracy = correct / total\n",
    "\n",
    "    losses.append(train_loss)\n",
    "    val_losses.append(val_loss)\n",
    "    val_accuracies.append(val_accuracy)\n",
    "\n",
    "    print(f\"Epoch {epoch+1}/{epochs}, Train Loss: {train_loss:.4f}, Val Loss: {val_loss:.4f}, Val Accuracy: {val_accuracy:.4f}\")\n",
    "\n",
    "    scheduler.step(val_loss)\n",
    "\n",
    "    if val_loss < best_val_loss:\n",
    "        best_val_loss = val_loss\n",
    "        torch.save(model.state_dict(), \"fashion-mnist-cnn.pth\")\n",
    "        early_stop_counter = 0\n",
    "    else:\n",
    "        early_stop_counter += 1\n",
    "        if early_stop_counter >= patience:\n",
    "            print(\"Early stopping triggered.\")\n",
    "            break\n",
    "\n",
    "# Load the best model for inference\n",
    "model.load_state_dict(torch.load(\"fashion-mnist-cnn.pth\"))\n",
    "model.eval()"
   ]
  },
  {
   "cell_type": "code",
   "execution_count": 45,
   "metadata": {},
   "outputs": [
    {
     "data": {
      "text/plain": [
       "0.9287"
      ]
     },
     "execution_count": 45,
     "metadata": {},
     "output_type": "execute_result"
    }
   ],
   "source": [
    "accuracy = get_model_accuracy(model, val_loader)\n",
    "accuracy"
   ]
  },
  {
   "cell_type": "code",
   "execution_count": null,
   "metadata": {},
   "outputs": [],
   "source": []
  },
  {
   "cell_type": "markdown",
   "metadata": {},
   "source": [
    "## new model"
   ]
  },
  {
   "cell_type": "code",
   "execution_count": 18,
   "metadata": {},
   "outputs": [],
   "source": [
    "class SEBlock(nn.Module):\n",
    "    def __init__(self, in_channels, reduction=16):\n",
    "        super(SEBlock, self).__init__()\n",
    "        self.global_avg_pool = nn.AdaptiveAvgPool2d(1)  # Global Average Pooling\n",
    "        self.fc1 = nn.Linear(in_channels, in_channels // reduction, bias=False)  # Squeeze\n",
    "        self.relu = nn.ReLU()\n",
    "        self.fc2 = nn.Linear(in_channels // reduction, in_channels, bias=False)  # Excitation\n",
    "        self.sigmoid = nn.Sigmoid()\n",
    "\n",
    "    def forward(self, x):\n",
    "        batch, channels, _, _ = x.size()\n",
    "        # Squeeze: Global Average Pooling\n",
    "        se = self.global_avg_pool(x).view(batch, channels)\n",
    "        # Excitation: Two fully connected layers with reduction\n",
    "        se = self.fc1(se)\n",
    "        se = self.relu(se)\n",
    "        se = self.fc2(se)\n",
    "        se = self.sigmoid(se).view(batch, channels, 1, 1)\n",
    "        # Scale: Multiply input by recalibrated weights\n",
    "        return x * se"
   ]
  },
  {
   "cell_type": "code",
   "execution_count": null,
   "metadata": {},
   "outputs": [],
   "source": [
    "class CBAMBlock(nn.Module):\n",
    "    def __init__(self, in_channels, reduction=16):\n",
    "        super(CBAMBlock, self).__init__()\n",
    "        self.se = SEBlock(in_channels, reduction)\n",
    "        self.spatial_gate = nn.Sequential(\n",
    "            nn.Conv2d(in_channels, 1, kernel_size=7, padding=3),\n",
    "            nn.Sigmoid()\n",
    "        )\n",
    "\n",
    "    def forward(self, x):\n",
    "        x_se = self.se(x)\n",
    "        x_spatial = x_se * self.spatial_gate(x_se)\n",
    "        return x_spatial"
   ]
  },
  {
   "cell_type": "code",
   "execution_count": 40,
   "metadata": {},
   "outputs": [
    {
     "name": "stdout",
     "output_type": "stream",
     "text": [
      "cnn.0.weight \t torch.Size([64, 1, 3, 3])\n",
      "cnn.0.bias \t torch.Size([64])\n",
      "cnn.1.weight \t torch.Size([64])\n",
      "cnn.1.bias \t torch.Size([64])\n",
      "cnn.1.running_mean \t torch.Size([64])\n",
      "cnn.1.running_var \t torch.Size([64])\n",
      "cnn.1.num_batches_tracked \t torch.Size([])\n",
      "cnn.3.weight \t torch.Size([64, 64, 3, 3])\n",
      "cnn.3.bias \t torch.Size([64])\n",
      "cnn.4.weight \t torch.Size([64])\n",
      "cnn.4.bias \t torch.Size([64])\n",
      "cnn.4.running_mean \t torch.Size([64])\n",
      "cnn.4.running_var \t torch.Size([64])\n",
      "cnn.4.num_batches_tracked \t torch.Size([])\n",
      "cnn.8.weight \t torch.Size([128, 64, 3, 3])\n",
      "cnn.8.bias \t torch.Size([128])\n",
      "cnn.9.weight \t torch.Size([128])\n",
      "cnn.9.bias \t torch.Size([128])\n",
      "cnn.9.running_mean \t torch.Size([128])\n",
      "cnn.9.running_var \t torch.Size([128])\n",
      "cnn.9.num_batches_tracked \t torch.Size([])\n",
      "cnn.11.weight \t torch.Size([128, 128, 3, 3])\n",
      "cnn.11.bias \t torch.Size([128])\n",
      "cnn.12.weight \t torch.Size([128])\n",
      "cnn.12.bias \t torch.Size([128])\n",
      "cnn.12.running_mean \t torch.Size([128])\n",
      "cnn.12.running_var \t torch.Size([128])\n",
      "cnn.12.num_batches_tracked \t torch.Size([])\n",
      "cnn.14.fc1.weight \t torch.Size([8, 128])\n",
      "cnn.14.fc2.weight \t torch.Size([128, 8])\n",
      "cnn.17.weight \t torch.Size([256, 128, 3, 3])\n",
      "cnn.17.bias \t torch.Size([256])\n",
      "cnn.18.weight \t torch.Size([256])\n",
      "cnn.18.bias \t torch.Size([256])\n",
      "cnn.18.running_mean \t torch.Size([256])\n",
      "cnn.18.running_var \t torch.Size([256])\n",
      "cnn.18.num_batches_tracked \t torch.Size([])\n",
      "cnn.20.weight \t torch.Size([256, 256, 3, 3])\n",
      "cnn.20.bias \t torch.Size([256])\n",
      "cnn.21.weight \t torch.Size([256])\n",
      "cnn.21.bias \t torch.Size([256])\n",
      "cnn.21.running_mean \t torch.Size([256])\n",
      "cnn.21.running_var \t torch.Size([256])\n",
      "cnn.21.num_batches_tracked \t torch.Size([])\n",
      "cnn.23.fc1.weight \t torch.Size([16, 256])\n",
      "cnn.23.fc2.weight \t torch.Size([256, 16])\n",
      "fc.1.weight \t torch.Size([512, 2304])\n",
      "fc.1.bias \t torch.Size([512])\n",
      "fc.4.weight \t torch.Size([256, 512])\n",
      "fc.4.bias \t torch.Size([256])\n",
      "fc.7.weight \t torch.Size([10, 256])\n",
      "fc.7.bias \t torch.Size([10])\n"
     ]
    }
   ],
   "source": [
    "class FashionistaModel(nn.Module):\n",
    "    def __init__(self):\n",
    "        super().__init__()\n",
    "        \n",
    "        # CNN architecture with SE blocks\n",
    "        self.cnn = nn.Sequential(\n",
    "            # Block 1\n",
    "            nn.Conv2d(1, 64, kernel_size=3, padding=1),  # Input: 1x28x28, Output: 64x28x28\n",
    "            # nn.Conv2d(64, 64, kernel_size=5, padding=2),  # Input: 1x28x28, Output: 64x28x28\n",
    "            nn.BatchNorm2d(64),\n",
    "            nn.LeakyReLU(),\n",
    "            nn.Conv2d(64, 64, kernel_size=3, padding=1),  # Output: 64x28x28\n",
    "            nn.BatchNorm2d(64),\n",
    "            nn.LeakyReLU(),\n",
    "            # SEBlock(64),  # Add SE block here\n",
    "            nn.MaxPool2d(2),  # Output: 64x14x14\n",
    "            nn.Dropout(0.32),\n",
    "\n",
    "            # Block 2\n",
    "            nn.Conv2d(64, 128, kernel_size=3, padding=1),  # Output: 128x14x14\n",
    "            nn.BatchNorm2d(128),\n",
    "            nn.LeakyReLU(),\n",
    "            nn.Conv2d(128, 128, kernel_size=3, padding=1),  # Output: 128x14x14\n",
    "            nn.BatchNorm2d(128),\n",
    "            nn.LeakyReLU(),\n",
    "            SEBlock(128),  # Add SE block here\n",
    "            nn.MaxPool2d(2),  # Output: 128x7x7\n",
    "            nn.Dropout(0.38),\n",
    "\n",
    "            # Block 3\n",
    "            nn.Conv2d(128, 256, kernel_size=3, padding=1),  # Output: 256x7x7\n",
    "            nn.BatchNorm2d(256),\n",
    "            nn.LeakyReLU(),\n",
    "            nn.Conv2d(256, 256, kernel_size=3, padding=1),  # Output: 256x7x7\n",
    "            nn.BatchNorm2d(256),\n",
    "            nn.LeakyReLU(),\n",
    "            SEBlock(256),  # Add SE block here\n",
    "            nn.MaxPool2d(2),  # Output: 256x3x3\n",
    "            nn.Dropout(0.35),\n",
    "        )\n",
    "\n",
    "        # Fully connected layers\n",
    "        self.fc = nn.Sequential(\n",
    "            nn.Flatten(),  # Flatten the tensor for dense layers\n",
    "            nn.Linear(256 * 3 * 3, 512),  # Fully connected layer\n",
    "            nn.LeakyReLU(),\n",
    "            nn.Dropout(0.35),\n",
    "            nn.Linear(512, 256),\n",
    "            nn.LeakyReLU(),\n",
    "            nn.Dropout(0.3),\n",
    "            nn.Linear(256, 10)  # Output layer for 10 classes\n",
    "        )\n",
    "    \n",
    "    def forward(self, xb):\n",
    "        # Pass through CNN layers\n",
    "        xb = self.cnn(xb)\n",
    "        # Pass through fully connected layers\n",
    "        out = self.fc(xb)\n",
    "        return out\n",
    "\n",
    "    def training_step(self, batch):\n",
    "        images, labels = batch\n",
    "        out = self(images)  # Generate predictions\n",
    "        loss = F.cross_entropy(out, labels)  # Calculate the loss\n",
    "        return loss\n",
    "    \n",
    "    def validation_step(self, batch):\n",
    "        images, labels = batch\n",
    "        out = self(images)\n",
    "        loss = F.cross_entropy(out, labels)\n",
    "        acc = accuracy(out, labels)\n",
    "        return {'val_loss': loss, 'val_acc': acc}\n",
    "    \n",
    "    def validation_epoch_end(self, outputs):\n",
    "        batch_losses = [x['val_loss'] for x in outputs]\n",
    "        epoch_loss = torch.stack(batch_losses).mean()\n",
    "        batch_accs = [x['val_acc'] for x in outputs]\n",
    "        epoch_acc = torch.stack(batch_accs).mean()\n",
    "        return {'val_loss': epoch_loss.item(), 'val_acc': epoch_acc.item()}\n",
    "    \n",
    "    def epoch_end(self, epoch, result):\n",
    "        print(\"Epoch [{}], val_loss: {:.4f}, val_acc: {:.4f}\".format(epoch, result['val_loss'], result['val_acc']))\n",
    "\n",
    "model = FashionistaModel()\n",
    "for k in model.state_dict().keys():\n",
    "    print(k, \"\\t\", model.state_dict()[k].shape)"
   ]
  },
  {
   "cell_type": "code",
   "execution_count": 41,
   "metadata": {},
   "outputs": [
    {
     "name": "stdout",
     "output_type": "stream",
     "text": [
      "Dataset FashionistaDataset\n",
      "    Number of datapoints: 60000\n",
      "    Root location: ../../../../data/kaggle/\n",
      "    Split: Train\n",
      "    StandardTransform\n",
      "Transform: Compose(\n",
      "               RandomHorizontalFlip(p=0.5)\n",
      "               RandomRotation(degrees=[-12.0, 12.0], interpolation=nearest, expand=False, fill=0)\n",
      "               RandomAffine(degrees=[0.0, 0.0], translate=(0.15, 0.15), scale=(0.85, 1.15), shear=[-15.0, 15.0])\n",
      "               RandomResizedCrop(size=(28, 28), scale=(0.85, 1.0), ratio=(0.9, 1.05), interpolation=bilinear, antialias=True)\n",
      "               ToTensor()\n",
      "               Normalize(mean=(0.5,), std=(0.5,))\n",
      "           )\n",
      "60000\n"
     ]
    },
    {
     "data": {
      "text/plain": [
       "torch.Size([1, 28, 28])"
      ]
     },
     "execution_count": 41,
     "metadata": {},
     "output_type": "execute_result"
    }
   ],
   "source": [
    "# Define data augmentation and transforms\n",
    "train_transform = transforms.Compose([\n",
    "    transforms.RandomHorizontalFlip(),\n",
    "    transforms.RandomRotation(12),\n",
    "    transforms.RandomAffine(0, translate=(0.15, 0.15), shear=15, scale=(0.85, 1.15)),\n",
    "    transforms.RandomResizedCrop(28, scale=(0.85, 1.0), ratio=(0.9, 1.05)),\n",
    "    transforms.ToTensor(),\n",
    "    transforms.Normalize((0.5,), (0.5,))\n",
    "])\n",
    "\n",
    "val_transform = transforms.Compose([\n",
    "    transforms.ToTensor(),\n",
    "    transforms.Normalize((0.5,), (0.5,))\n",
    "])\n",
    "\n",
    "fashion_data = FashionistaDataset(root = data_dir, train = True, transform = train_transform)\n",
    "fashion_val_data = FashionistaDataset(root = data_dir, train = False, transform = val_transform)\n",
    "print(fashion_data)\n",
    "print(len(fashion_data))\n",
    "fashion_data[0][0].shape\n"
   ]
  },
  {
   "cell_type": "code",
   "execution_count": 42,
   "metadata": {},
   "outputs": [
    {
     "data": {
      "text/plain": [
       "(50000, 10000)"
      ]
     },
     "execution_count": 42,
     "metadata": {},
     "output_type": "execute_result"
    }
   ],
   "source": [
    "data_indices = list(range(len(fashion_data)))\n",
    "labels = [fashion_data[i][1] for i in data_indices]  # Assuming fashion_data[i] returns (image, label)\n",
    "\n",
    "# Perform train-test split\n",
    "train_indices, val_indices = train_test_split(\n",
    "    data_indices, \n",
    "    test_size=10000 / len(fashion_data),  # Equivalent to 10k validation samples from 60k\n",
    "    random_state=9,  # For reproducibility\n",
    "    stratify=labels  # Ensures balanced class distribution\n",
    ")\n",
    "\n",
    "# Create Subsets for train and validation datasets\n",
    "train_data = Subset(fashion_data, train_indices)\n",
    "validation_data = Subset(fashion_data, val_indices)\n",
    "len(train_data), len(validation_data)"
   ]
  },
  {
   "cell_type": "code",
   "execution_count": 43,
   "metadata": {},
   "outputs": [],
   "source": [
    "batch_size = 256\n",
    "train_loader = DataLoader(train_data, batch_size, shuffle = True)\n",
    "val_loader = DataLoader(validation_data, batch_size, shuffle = False)"
   ]
  },
  {
   "cell_type": "code",
   "execution_count": 44,
   "metadata": {},
   "outputs": [],
   "source": [
    "# training setup\n",
    "num_epochs = 100\n",
    "best_val_loss = float('inf')\n",
    "early_stop_counter = 0\n",
    "patience = 5\n",
    "\n",
    "device = torch.device('cuda' if torch.cuda.is_available() else 'cpu')\n",
    "model = FashionistaModel().to(device)\n",
    "class_weights = torch.tensor([1.0, 1.0, 1.0, 1.0, 1.0, 1.0, 1.5, 1.0, 1.0, 1.0]).to(device)\n",
    "criterion = nn.CrossEntropyLoss(weight=class_weights, label_smoothing=0.1)\n",
    "optimizer = optim.AdamW(model.parameters(), lr=0.003, weight_decay=1e-3, eps=1e-8)\n",
    "scheduler = optim.lr_scheduler.CyclicLR(optimizer, base_lr=0.0005, max_lr=0.005, step_size_up=5, cycle_momentum=False)\n",
    "\n",
    "losses = []\n",
    "val_losses = []\n",
    "val_accuracies = []\n",
    "lrates = []"
   ]
  },
  {
   "cell_type": "code",
   "execution_count": 45,
   "metadata": {},
   "outputs": [
    {
     "data": {
      "text/plain": [
       "(0, 0, 0, 0)"
      ]
     },
     "execution_count": 45,
     "metadata": {},
     "output_type": "execute_result"
    }
   ],
   "source": [
    "len(lrates), len(losses), len(val_losses), len(val_accuracies)"
   ]
  },
  {
   "cell_type": "code",
   "execution_count": 55,
   "metadata": {},
   "outputs": [],
   "source": [
    "from torch.optim.lr_scheduler import CosineAnnealingWarmRestarts\n",
    "# optimizer = optim.AdamW(model.parameters(), lr=0.003, weight_decay=1e-3, eps=1e-8)\n",
    "# scheduler = optim.lr_scheduler.CyclicLR(optimizer, base_lr=0.0005, max_lr=0.005, step_size_up=5, cycle_momentum=False)\n",
    "optimizer = optim.Adam(model.parameters(), lr=1e-9,  weight_decay=1e-3)\n",
    "# scheduler = CosineAnnealingWarmRestarts(optimizer, T_0=10, T_mult=2)\n",
    "# scheduler = ReduceLROnPlateau(optimizer, 'min', factor=0.5, patience=patience)\n",
    "# scheduler for late cnn plateau\n",
    "scheduler = ReduceLROnPlateau(optimizer, 'min', factor=0.5, patience=3)\n",
    "early_stop_counter = 0"
   ]
  },
  {
   "cell_type": "code",
   "execution_count": 56,
   "metadata": {},
   "outputs": [
    {
     "data": {
      "image/png": "[encoded data removed]",
      "text/plain": [
       "<Figure size 1600x600 with 2 Axes>"
      ]
     },
     "metadata": {},
     "output_type": "display_data"
    },
    {
     "name": "stdout",
     "output_type": "stream",
     "text": [
      "Epoch 7/100, Train Loss: 0.7211, Val Loss: 0.6986, Val Accuracy: 90.9900, Duration: 4m 58s, End Time: 15:27:36\n",
      "Early stopping counter: 4\n",
      "Best Validation Loss: 0.6933\n",
      "Best Validation Accuracy: 91.5400\n",
      "Average time per epoch: 5m 1s\n",
      "Next epoch ETA: 15:32:38\n",
      "Early stopping triggered.\n",
      "Training completed in 00:35:07.\n"
     ]
    },
    {
     "name": "stderr",
     "output_type": "stream",
     "text": [
      "/var/folders/s8/kl6fzfms2b7gvbxjt5t2wmr80000gn/T/ipykernel_6254/2911932890.py:161: FutureWarning: You are using `torch.load` with `weights_only=False` (the current default value), which uses the default pickle module implicitly. It is possible to construct malicious pickle data which will execute arbitrary code during unpickling (See https://github.com/pytorch/pytorch/blob/main/SECURITY.md#untrusted-models for more details). In a future release, the default value for `weights_only` will be flipped to `True`. This limits the functions that could be executed during unpickling. Arbitrary objects will no longer be allowed to be loaded via this mode unless they are explicitly allowlisted by the user via `torch.serialization.add_safe_globals`. We recommend you start setting `weights_only=True` for any use case where you don't have full control of the loaded file. Please open an issue on GitHub for any issues related to this experimental feature.\n",
      "  model.load_state_dict(torch.load(checkpoint_name))\n"
     ]
    },
    {
     "name": "stdout",
     "output_type": "stream",
     "text": [
      "Validation Accuracy: 0.9105\n"
     ]
    }
   ],
   "source": [
    "# Ensure correct backend for Jupyter Notebook\n",
    "%matplotlib inline\n",
    "\n",
    "# Initialize graph for loss and accuracy\n",
    "recent_predictions = []\n",
    "times_per_epoch = []\n",
    "model_version = 'v4'\n",
    "print(\"Training on\", device)\n",
    "checkpoint_name = f\"fashion-mnist-cnn-{model_version}.pth\"\n",
    "\n",
    "start_time = time.time()  # Start training timer\n",
    "\n",
    "for epoch in range(num_epochs):\n",
    "    epoch_start_time = time.time()\n",
    "    print(f\"Epoch {epoch+1}/{num_epochs}: with learning rate {optimizer.param_groups[0]['lr']:.6f}. Working on {device}...\")\n",
    "    model.train()\n",
    "    train_loss = 0\n",
    "    for X_batch, y_batch in train_loader:\n",
    "        X_batch, y_batch = X_batch.to(device), y_batch.to(device)\n",
    "        optimizer.zero_grad()\n",
    "        outputs = model(X_batch)\n",
    "        loss = criterion(outputs, y_batch)\n",
    "        loss.backward()\n",
    "        torch.nn.utils.clip_grad_norm_(model.parameters(), max_norm=1.0)\n",
    "        optimizer.step()\n",
    "        train_loss += loss.item()\n",
    "\n",
    "    model.eval()\n",
    "    val_loss = 0\n",
    "    correct = 0\n",
    "    total = 0\n",
    "    with torch.no_grad():\n",
    "        for X_batch, y_batch in val_loader:\n",
    "            X_batch, y_batch = X_batch.to(device), y_batch.to(device)\n",
    "            outputs = model(X_batch)\n",
    "            loss = criterion(outputs, y_batch)\n",
    "            val_loss += loss.item()\n",
    "            _, predicted = torch.max(outputs, 1)\n",
    "            correct += (predicted == y_batch).sum().item()\n",
    "            total += y_batch.size(0)\n",
    "\n",
    "    val_loss /= len(val_loader)\n",
    "    train_loss /= len(train_loader)\n",
    "    val_accuracy = correct / 100\n",
    "\n",
    "    losses.append(train_loss)\n",
    "    val_losses.append(val_loss)\n",
    "    val_accuracies.append(val_accuracy)\n",
    "    lrates.append(optimizer.param_groups[0]['lr'])\n",
    "\n",
    "    # Calculate epoch duration\n",
    "    epoch_end_time = time.time()\n",
    "    epoch_duration = epoch_end_time - epoch_start_time\n",
    "    # epoch duration to mintes and seconds\n",
    "    epoch_mins = int(epoch_duration / 60)\n",
    "    epoch_secs = int(epoch_duration - (epoch_mins * 60))\n",
    "    timestamp = datetime.now().strftime(\"%H:%M:%S\")\n",
    "\n",
    "    times_per_epoch.append(epoch_duration)\n",
    "\n",
    "    # Update Loss Graph (Left)\n",
    "\n",
    "    # Clear the figure\n",
    "    clear_output(wait=True)\n",
    "\n",
    "    # Create a new figure and subplots\n",
    "    fig, axes = plt.subplots(1, 2, figsize=(16, 6))\n",
    "    loss_ax, pred_ax = axes\n",
    "\n",
    "    # Update Loss Graph (Left)\n",
    "    normalized_lrates = [lr / max(lrates) for lr in lrates]\n",
    "    # range from 0.4 to 0.6\n",
    "    normalized_lrates = [0.5 + (0.4 * lr) for lr in normalized_lrates]\n",
    "    loss_ax.plot(normalized_lrates, label='Learning Rate', color='#7e7')\n",
    "    # plot dotted lightgray line at lowest val_loss\n",
    "    loss_ax.axhline(y=min(val_losses), color='lightgray', linestyle='dotted', label='Lowest Val Loss')\n",
    "    loss_ax.plot(losses, label='Train Loss', color='blue')\n",
    "    loss_ax.plot(val_losses, label='Validation Loss', color='orange')\n",
    "    loss_ax.legend()\n",
    "    loss_ax.set_xlabel('Epoch')\n",
    "    loss_ax.set_ylabel('Loss')\n",
    "    loss_ax.set_title('Train & Validation Loss')\n",
    "    # print class description on topright, below the legend\n",
    "    loss_ax.text(0.95, 0.65, 'Class Description:\\n0: T-shirt/top\\n1: Trouser\\n2: Pullover\\n3: Dress\\n4: Coat\\n5: Sandal\\n6: Shirt\\n7: Sneaker\\n8: Bag\\n9: Ankle boot', verticalalignment='bottom', horizontalalignment='right', transform=loss_ax.transAxes, color='black', fontsize=8, bbox={'facecolor': 'white', 'alpha': 0.5, 'pad': 10, 'edgecolor': '#dedede'})\n",
    "\n",
    "    sample_images, sample_labels = next(iter(val_loader))\n",
    "    for i in range(epoch):\n",
    "        sample_images, sample_labels = next(iter(val_loader))\n",
    "    sample_images, sample_labels = sample_images.to(device), sample_labels.to(device)\n",
    "    with torch.no_grad():\n",
    "        sample_outputs = model(sample_images)\n",
    "        _, sample_preds = torch.max(sample_outputs, 1)\n",
    "\n",
    "    recent_index = epoch+1\n",
    "    recent_predictions.append((sample_images[:recent_index].cpu(), sample_preds[:recent_index].cpu(), sample_labels[:recent_index].cpu()))\n",
    "    if len(recent_predictions) > 16:\n",
    "        recent_predictions.pop(0)\n",
    "\n",
    "    # Update Prediction Grid (Right)\n",
    "    pred_ax.set_title(\"Predictions (Last 16 Epochs)\")\n",
    "    pred_ax.axis('off')\n",
    "    rows, cols = 4, 4\n",
    "    for idx, (images, preds, labels) in enumerate(recent_predictions[:16]):\n",
    "        for img, pred, label in zip(images, preds, labels):\n",
    "            img = img.squeeze(0)  # Remove channel dimension\n",
    "            ax = pred_ax.inset_axes([idx % cols / cols, 1 - (idx // cols + 1) / rows, 1 / cols, 1 / rows])\n",
    "            ax.imshow(img, cmap='gray')\n",
    "            ax.axis('off')\n",
    "            ax.set_title(f\"P: {pred} / T: {label}\", fontsize=10, color='#0f0' if pred == label else 'red', fontweight='bold', fontfamily='monospace', y=0.8, bbox={'facecolor': '#fee', 'alpha': 0.45, 'pad': 2})\n",
    "            current_epoch_idx = - len(recent_predictions) + idx\n",
    "            epoch_val_accuracy = val_accuracies[current_epoch_idx]\n",
    "            epoch_id = len(val_accuracies) + current_epoch_idx\n",
    "            ax.text(4, 24, f\"e{epoch_id} acc:{epoch_val_accuracy:.2f}\", fontsize=8, color='cyan', fontfamily='monospace', fontweight='bold', bbox={'facecolor': '#fee', 'alpha': 0.45, 'pad': 1})\n",
    "            # shadow for the text\n",
    "\n",
    "            epoch_mins = int(times_per_epoch[current_epoch_idx] / 60)\n",
    "            epoch_secs = int(times_per_epoch[current_epoch_idx] - (epoch_mins * 60))\n",
    "            epoch_time_str = f\"{epoch_mins}m {epoch_secs}s\"\n",
    "            ax.text(9, 27, f\"{epoch_time_str}\", fontsize=8, color='yellow', fontfamily='monospace', fontweight='bold', bbox={'facecolor': '#fee', 'alpha': 0.45, 'pad': 0})\n",
    "\n",
    "    # Display the updated plot\n",
    "    plt.show()\n",
    "\n",
    "    # save the plot\n",
    "    fig.savefig(f\"epoch_{len(val_accuracies)}_plot-cnn-{model_version}.png\")\n",
    "\n",
    "    print(\n",
    "        f\"Epoch {epoch+1}/{num_epochs}, Train Loss: {train_loss:.4f}, \"\n",
    "        f\"Val Loss: {val_loss:.4f}, Val Accuracy: {val_accuracy:.4f}, \"\n",
    "        f\"Duration: {epoch_mins}m {epoch_secs}s, End Time: {timestamp}\"\n",
    "    )\n",
    "\n",
    "    total_time = time.time() - start_time\n",
    "    print(f\"Early stopping counter: {early_stop_counter}\")\n",
    "    print(f\"Best Validation Loss: {best_val_loss:.4f}\")\n",
    "    print(f\"Best Validation Accuracy: {max(val_accuracies):.4f}\")\n",
    "    avg_time = total_time / len(times_per_epoch)\n",
    "    avg_mins = int(avg_time / 60)\n",
    "    avg_secs = int(avg_time - (avg_mins * 60))\n",
    "    print(f\"Average time per epoch: {avg_mins}m {avg_secs}s\")\n",
    "    print(f\"Next epoch ETA: {(datetime.now() + timedelta(seconds=avg_time)).strftime('%H:%M:%S')}\")\n",
    "\n",
    "    scheduler.step(val_loss)\n",
    "\n",
    "    if val_loss < best_val_loss:\n",
    "        best_val_loss = val_loss\n",
    "        torch.save(model.state_dict(), checkpoint_name)\n",
    "        early_stop_counter = 0\n",
    "    else:\n",
    "        early_stop_counter += 1\n",
    "        if early_stop_counter >= patience:\n",
    "            print(\"Early stopping triggered.\")\n",
    "            break\n",
    "\n",
    "total_time = time.time() - start_time\n",
    "total_time_formatted = time.strftime(\"%H:%M:%S\", time.gmtime(total_time))\n",
    "print(f\"Training completed in {total_time_formatted}.\")\n",
    "\n",
    "\n",
    "# Load the best model for inference\n",
    "model.load_state_dict(torch.load(checkpoint_name))\n",
    "model.eval()\n",
    "\n",
    "accuracy = get_model_accuracy(model, val_loader)\n",
    "\n",
    "print(f\"Validation Accuracy: {accuracy:.4f}\")"
   ]
  },
  {
   "cell_type": "code",
   "execution_count": 49,
   "metadata": {},
   "outputs": [
    {
     "name": "stdout",
     "output_type": "stream",
     "text": [
      "Validation Accuracy: 0.8983\n"
     ]
    }
   ],
   "source": [
    "# acurracy before reconfiguring droputs and learning rate schedulers\n",
    "accuracy = get_model_accuracy(model, val_loader)\n",
    "\n",
    "print(f\"Validation Accuracy: {accuracy:.4f}\")"
   ]
  },
  {
   "cell_type": "code",
   "execution_count": 57,
   "metadata": {},
   "outputs": [
    {
     "name": "stdout",
     "output_type": "stream",
     "text": [
      "Validation Accuracy: 0.9110\n"
     ]
    }
   ],
   "source": [
    "# acurracy after reconfiguring droputs and learning rate schedulers and without most transformations (using val_transofrms)\n",
    "accuracy = get_model_accuracy(model, val_loader)\n",
    "\n",
    "print(f\"Validation Accuracy: {accuracy:.4f}\")\n"
   ]
  },
  {
   "cell_type": "code",
   "execution_count": 52,
   "metadata": {},
   "outputs": [],
   "source": [
    "# load the model and its training history\n",
    "with open(f'fashion-mnist-cnn-v4-training-data.pickle', 'rb') as f:\n",
    "# with open(f'fashion-mnist-cnn-{model_version}-training-data.pickle', 'rb') as f:\n",
    "    training_data = pickle.load(f)\n",
    "    val_accuracies = training_data['validation_accuracy']\n",
    "    val_losses = training_data['validation_loss']\n",
    "    losses = training_data['training_loss']\n",
    "    lrates = training_data['learning_rates']\n",
    "    times_per_epoch = training_data['times_per_epoch']\n",
    "    total_time = training_data['total_time']\n",
    "    best_val_loss = training_data['best_val_loss']\n",
    "    model_version = training_data['model_version']\n",
    "    model.load_state_dict(training_data['model_state'])\n",
    "    optimizer.load_state_dict(training_data['optimizer_state'])\n",
    "    # scheduler.load_state_dict(training_data['scheduler_state'])\n",
    "    "
   ]
  },
  {
   "cell_type": "code",
   "execution_count": null,
   "metadata": {},
   "outputs": [],
   "source": []
  },
  {
   "cell_type": "markdown",
   "metadata": {},
   "source": [
    "## save current progress"
   ]
  },
  {
   "cell_type": "code",
   "execution_count": 59,
   "metadata": {},
   "outputs": [],
   "source": [
    "# Save the model and its training history\n",
    "training_data = {\n",
    "    'model_state': model.state_dict(),\n",
    "    'optimizer_state': optimizer.state_dict(),\n",
    "    'scheduler_state': scheduler.state_dict(),\n",
    "    'training_loss': losses,\n",
    "    'validation_loss': val_losses,\n",
    "    'validation_accuracy': val_accuracies,\n",
    "    'learning_rates': lrates,\n",
    "    'times_per_epoch': times_per_epoch,\n",
    "    'total_time': total_time,\n",
    "    'best_val_loss': best_val_loss,\n",
    "    'best_val_accuracy': max(val_accuracies),\n",
    "    'model_version': model_version\n",
    "}\n",
    "\n",
    "with open(f'fashion-mnist-cnn-{model_version}-training-data.pickle', 'wb') as f:\n",
    "    pickle.dump(training_data, f)"
   ]
  },
  {
   "cell_type": "code",
   "execution_count": null,
   "metadata": {},
   "outputs": [],
   "source": []
  }
 ],
 "metadata": {
  "kernelspec": {
   "display_name": "data",
   "language": "python",
   "name": "python3"
  },
  "language_info": {
   "codemirror_mode": {
    "name": "ipython",
    "version": 3
   },
   "file_extension": ".py",
   "mimetype": "text/x-python",
   "name": "python",
   "nbconvert_exporter": "python",
   "pygments_lexer": "ipython3",
   "version": "3.11.5"
  }
 },
 "nbformat": 4,
 "nbformat_minor": 2
}
